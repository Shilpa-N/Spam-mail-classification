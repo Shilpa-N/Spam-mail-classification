{
 "cells": [
  {
   "cell_type": "markdown",
   "metadata": {},
   "source": [
    "# Spam classification using logistic regression"
   ]
  },
  {
   "cell_type": "markdown",
   "metadata": {},
   "source": [
    "###### Consider the email spam data set discussed on p300 of (Hastie et al. 2009). This consists of 4601 email messages, from which 57 features have been extracted. These are as follows:\n",
    "\n",
    "• 48 features, in [0, 100], giving the percentage of words in a given message which match a given word\n",
    "on the list. The list contains words such as “business”, “free”, “george”, etc. (The data was collected by\n",
    "George Forman, so his name occurs quite a lot.)\n",
    "\n",
    "• 6 features, in [0, 100], giving the percentage of characters in the email that match a given character on the list. \n",
    "\n",
    "• Feature 55: The average length of an uninterrupted sequence of capital letters (max is 40.3, mean is 4.9)\n",
    "\n",
    "• Feature 56: The length of the longest uninterrupted sequence of capital letters (max is 45.0, mean is 52.6)\n",
    "\n",
    "• Feature 57: The sum of the lengts of uninterrupted sequence of capital letters (max is 25.6, mean is 282.2)"
   ]
  },
  {
   "cell_type": "code",
   "execution_count": 1,
   "metadata": {},
   "outputs": [],
   "source": [
    "import numpy as np\n",
    "%matplotlib inline\n",
    "import matplotlib.pyplot as plt\n",
    "import csv\n",
    "import pandas as pd"
   ]
  },
  {
   "cell_type": "code",
   "execution_count": null,
   "metadata": {},
   "outputs": [],
   "source": [
    "X_train = pd.read_csv(\"x_train.csv\", header = None)\n",
    "Y_train = pd.read_csv(\"y_train.csv\", header = None)\n",
    "X_test = pd.read_csv(\"x_test.csv\", header = None)\n",
    "Y_test = pd.read_csv(\"y_test.csv\", header = None)"
   ]
  },
  {
   "cell_type": "code",
   "execution_count": 4,
   "metadata": {},
   "outputs": [],
   "source": [
    "x_train=np.asarray(X_train)\n",
    "y_train=np.asarray(Y_train)\n",
    "x_test=np.asarray(X_test)\n",
    "y_test=np.asarray(Y_test)"
   ]
  },
  {
   "cell_type": "code",
   "execution_count": 5,
   "metadata": {},
   "outputs": [
    {
     "data": {
      "image/png": "[encoded data removed]",
      "text/plain": [
       "<Figure size 432x288 with 1 Axes>"
      ]
     },
     "metadata": {
      "needs_background": "light"
     },
     "output_type": "display_data"
    }
   ],
   "source": [
    "p = plt.scatter(x_train, y_train)\n",
    "plt.title('Scatter plot')\n",
    "plt.xlabel('x_train')\n",
    "plt.ylabel('y_train')\n",
    "plt.show()"
   ]
  },
  {
   "cell_type": "code",
   "execution_count": 6,
   "metadata": {},
   "outputs": [],
   "source": [
    "p1 = []\n",
    "for i in range(25):\n",
    "    p1.append([1])\n",
    "p2 = []\n",
    "for i in range(48):\n",
    "    p2.append([1])"
   ]
  },
  {
   "cell_type": "markdown",
   "metadata": {},
   "source": [
    "###### Implementing Polynomial regression"
   ]
  },
  {
   "cell_type": "code",
   "execution_count": 7,
   "metadata": {},
   "outputs": [],
   "source": [
    "def polynomial_regression(X,Y,p): #Function to find Polynomial regression weights and MSE for various degrees\n",
    "    degree = [1,2,3,7,10]\n",
    "    temp=[]\n",
    "    MSE=[]\n",
    "    weights = {}\n",
    "    mse = {}\n",
    "    i= 0\n",
    "    d=0\n",
    "    for i in range(len(degree)):\n",
    "        d = degree[i]\n",
    "        mid = np.concatenate([p,X], axis =1)\n",
    "        if d != 1:\n",
    "            for j in range(2,d+1):\n",
    "                mid = np.concatenate([mid,np.power(X,j)], axis = 1)\n",
    "        temp = mid  \n",
    "        temp_t = temp.transpose()\n",
    "        temp_t1 = np.matmul(temp_t,temp)\n",
    "        temp_inv = np.linalg.inv(temp_t1)\n",
    "        temp_1 = np.matmul(temp_inv,temp_t)\n",
    "        weights[d] = np.matmul(temp_1,Y)\n",
    "        print(weights[d])\n",
    "        mid_2 = np.linalg.norm(Y-(np.matmul(temp,weights[d])),2)\n",
    "        mse[d]=np.mean(mid_2)\n",
    "        print(mse[d])\n",
    "        MSE = np.append(MSE,mse[d])\n",
    "    print(MSE)\n",
    "    plt.plot(MSE, degree ,color='green', linestyle='dashed', linewidth = 2)\n",
    "    plt.xlabel(\"mean square error\")\n",
    "    plt.ylabel(\"Polynomials in x of degree\")\n",
    "    plt.title(\"Error vs. Polynomial degree\")\n",
    "    plt.show()\n",
    "    "
   ]
  },
  {
   "cell_type": "code",
   "execution_count": 8,
   "metadata": {},
   "outputs": [
    {
     "name": "stdout",
     "output_type": "stream",
     "text": [
      "[[ 0.55787413]\n",
      " [-0.23494215]]\n",
      "3.9750615860196423\n",
      "[[ 1.40766343]\n",
      " [-0.76698414]\n",
      " [ 0.0532042 ]]\n",
      "3.348019470031121\n",
      "[[ 0.18301369]\n",
      " [ 0.87201349]\n",
      " [-0.36501611]\n",
      " [ 0.02788135]]\n",
      "1.593622527755886\n",
      "[[ 1.39650721e-01]\n",
      " [ 1.39453740e+00]\n",
      " [-1.22891449e+00]\n",
      " [ 5.21807648e-01]\n",
      " [-1.25503235e-01]\n",
      " [ 1.52807329e-02]\n",
      " [-8.47085336e-04]\n",
      " [ 1.60809553e-05]]\n",
      "1.299985949906664\n",
      "[[ 1.05708063e-02]\n",
      " [ 6.55098286e+00]\n",
      " [-1.64896424e+01]\n",
      " [ 1.80784638e+01]\n",
      " [-1.06493229e+01]\n",
      " [ 3.72359865e+00]\n",
      " [-8.11055351e-01]\n",
      " [ 1.11111709e-01]\n",
      " [-9.30208754e-03]\n",
      " [ 4.34549559e-04]\n",
      " [-8.67645676e-06]]\n",
      "1.094422820613233\n",
      "[3.97506159 3.34801947 1.59362253 1.29998595 1.09442282]\n"
     ]
    },
    {
     "data": {
      "image/png": "[encoded data removed]",
      "text/plain": [
       "<Figure size 432x288 with 1 Axes>"
      ]
     },
     "metadata": {
      "needs_background": "light"
     },
     "output_type": "display_data"
    }
   ],
   "source": [
    "polynomial_regression(x_train,y_train,p1) #Polynomial regression with train data "
   ]
  },
  {
   "cell_type": "markdown",
   "metadata": {},
   "source": [
    "###### Mean square error is decreasing as the polynomial degree is increasing for the training set"
   ]
  },
  {
   "cell_type": "code",
   "execution_count": 9,
   "metadata": {},
   "outputs": [
    {
     "name": "stdout",
     "output_type": "stream",
     "text": [
      "[[ 0.87515848]\n",
      " [-0.30587031]]\n",
      "5.528927889774566\n",
      "[[ 1.94713969]\n",
      " [-0.92529419]\n",
      " [ 0.06077749]]\n",
      "4.554119572896799\n",
      "[[ 0.16270074]\n",
      " [ 1.08079466]\n",
      " [-0.42665391]\n",
      " [ 0.03188431]]\n",
      "1.8488249616564938\n",
      "[[-1.05835641e-01]\n",
      " [ 1.47331797e+00]\n",
      " [-5.06805907e-01]\n",
      " [ 4.77172205e-03]\n",
      " [ 1.10805880e-02]\n",
      " [-1.46995487e-03]\n",
      " [ 9.37056919e-05]\n",
      " [-2.63369578e-06]]\n",
      "1.714404815559517\n",
      "[[-7.77759901e-01]\n",
      " [ 6.08101057e+00]\n",
      " [-9.82731740e+00]\n",
      " [ 8.76384289e+00]\n",
      " [-4.54082487e+00]\n",
      " [ 1.42508266e+00]\n",
      " [-2.80740913e-01]\n",
      " [ 3.49676792e-02]\n",
      " [-2.67391885e-03]\n",
      " [ 1.14586493e-04]\n",
      " [-2.10717424e-06]]\n",
      "1.6950634443569987\n",
      "[5.52892789 4.55411957 1.84882496 1.71440482 1.69506344]\n"
     ]
    },
    {
     "data": {
      "image/png": "[encoded data removed]",
      "text/plain": [
       "<Figure size 432x288 with 1 Axes>"
      ]
     },
     "metadata": {
      "needs_background": "light"
     },
     "output_type": "display_data"
    }
   ],
   "source": [
    "polynomial_regression(x_test,y_test,p2) #Polynomial regression for test data with weights and MSE"
   ]
  },
  {
   "cell_type": "markdown",
   "metadata": {},
   "source": [
    "MSE almost remains same till the polynomial degree is between 5 to 10 "
   ]
  },
  {
   "cell_type": "code",
   "execution_count": 47,
   "metadata": {},
   "outputs": [],
   "source": [
    "def ridge_regression(x,y,p): #Function for calculating Ridge Regression weights and MSE \n",
    "    l=[0.00001, 0.001,0.1,1,10]\n",
    "    weight =[]\n",
    "    MSE_ridge = []\n",
    "    log_lambda = []\n",
    "    mse_ridge={}\n",
    "    for i in range(len(l)):\n",
    "        log_lambda = np.append(log_lambda,np.math.log10(l[i]))\n",
    "        I = np.identity(8, dtype = float)\n",
    "        lim = l[i]*I\n",
    "        cat = np.concatenate([p,x], axis =1)\n",
    "        for j in range(2,8):\n",
    "            cat = np.concatenate([cat,np.power(x,j)], axis = 1)\n",
    "        temp1 = cat\n",
    "        temp_t2 = temp1.transpose()\n",
    "        temp_t22 = np.matmul(temp_t2, temp1)\n",
    "        som = lim + temp_t22\n",
    "        som_inv = np.linalg.inv(som)\n",
    "        som_mid = np.matmul(temp_t2,y)\n",
    "        weight = np.matmul(som_inv,som_mid)\n",
    "        print(weight)\n",
    "        cat_2 = np.linalg.norm(y-(np.matmul(temp1,weight)),2)\n",
    "        mse_ridge[i]=np.mean(cat_2)\n",
    "        MSE_ridge = np.append(MSE_ridge,mse_ridge[i]) \n",
    "        print(MSE_ridge)\n",
    "    print(log_lambda)\n",
    "    plt.plot(MSE_ridge, log_lambda,color='green', linestyle='dashed', linewidth = 2)\n",
    "    plt.xlabel(\"mean square error\")\n",
    "    plt.ylabel(\"Log Lambda\")\n",
    "    plt.title(\"Error vs. Log Lambda with polynomial degree 7\")\n",
    "    plt.show()"
   ]
  },
  {
   "cell_type": "code",
   "execution_count": 48,
   "metadata": {},
   "outputs": [
    {
     "name": "stdout",
     "output_type": "stream",
     "text": [
      "[[ 1.39723157e-01]\n",
      " [ 1.39401411e+00]\n",
      " [-1.22822869e+00]\n",
      " [ 5.21447182e-01]\n",
      " [-1.25409418e-01]\n",
      " [ 1.52678881e-02]\n",
      " [-8.46199032e-04]\n",
      " [ 1.60566585e-05]]\n",
      "[1.29998596]\n",
      "[[ 1.46572092e-01]\n",
      " [ 1.34468116e+00]\n",
      " [-1.16360351e+00]\n",
      " [ 4.87488441e-01]\n",
      " [-1.16572802e-01]\n",
      " [ 1.40582143e-02]\n",
      " [-7.62739109e-04]\n",
      " [ 1.37689156e-05]]\n",
      "[1.29998596 1.30004741]\n",
      "[[ 2.67755127e-01]\n",
      " [ 5.05409134e-01]\n",
      " [-1.02239080e-01]\n",
      " [-5.65926088e-02]\n",
      " [ 2.24703575e-02]\n",
      " [-4.71641852e-03]\n",
      " [ 5.18727322e-04]\n",
      " [-2.10549265e-05]]\n",
      "[1.29998596 1.30004741 1.31885346]\n",
      "[[ 2.83302392e-01]\n",
      " [ 2.51242700e-01]\n",
      " [ 6.83721530e-02]\n",
      " [-7.68300119e-02]\n",
      " [ 1.41197191e-02]\n",
      " [-2.14577216e-03]\n",
      " [ 2.64068831e-04]\n",
      " [-1.23729063e-05]]\n",
      "[1.29998596 1.30004741 1.31885346 1.34157007]\n",
      "[[ 1.30648926e-01]\n",
      " [ 1.07289568e-01]\n",
      " [ 7.77265362e-02]\n",
      " [ 2.03327707e-02]\n",
      " [-3.10453464e-02]\n",
      " [ 6.03166175e-03]\n",
      " [-4.02835142e-04]\n",
      " [ 8.05983981e-06]]\n",
      "[1.29998596 1.30004741 1.31885346 1.34157007 1.48291871]\n",
      "[-5. -3. -1.  0.  1.]\n"
     ]
    },
    {
     "data": {
      "image/png": "[encoded data removed]",
      "text/plain": [
       "<Figure size 432x288 with 1 Axes>"
      ]
     },
     "metadata": {
      "needs_background": "light"
     },
     "output_type": "display_data"
    }
   ],
   "source": [
    "ridge_regression(x_train,y_train,p1) # Ridge regression using train data"
   ]
  },
  {
   "cell_type": "markdown",
   "metadata": {},
   "source": [
    "MSE remains same for lower value of lambda but for higher values it increases linearly for training data"
   ]
  },
  {
   "cell_type": "code",
   "execution_count": 49,
   "metadata": {},
   "outputs": [
    {
     "name": "stdout",
     "output_type": "stream",
     "text": [
      "[[-1.05673594e-01]\n",
      " [ 1.47272630e+00]\n",
      " [-5.06172502e-01]\n",
      " [ 4.47037877e-03]\n",
      " [ 1.11545324e-02]\n",
      " [-1.47969946e-03]\n",
      " [ 9.43607365e-05]\n",
      " [-2.65132479e-06]]\n",
      "[1.71440482]\n",
      "[[-9.07252884e-02]\n",
      " [ 1.41808071e+00]\n",
      " [-4.47741776e-01]\n",
      " [-2.33030744e-02]\n",
      " [ 1.79651024e-02]\n",
      " [-2.37675392e-03]\n",
      " [ 1.54637456e-04]\n",
      " [-4.27299787e-06]]\n",
      "[1.71440482 1.71443555]\n",
      "[[ 1.29936691e-01]\n",
      " [ 7.10146987e-01]\n",
      " [ 2.28953159e-01]\n",
      " [-3.17152120e-01]\n",
      " [ 8.49102589e-02]\n",
      " [-1.06732973e-02]\n",
      " [ 6.84268217e-04]\n",
      " [-1.79126985e-05]]\n",
      "[1.71440482 1.71443555 1.72122765]\n",
      "[[ 2.83042537e-01]\n",
      " [ 4.26793013e-01]\n",
      " [ 2.05373605e-01]\n",
      " [-1.82968839e-01]\n",
      " [ 2.85712382e-02]\n",
      " [-8.17235325e-04]\n",
      " [-1.09683704e-04]\n",
      " [ 6.35208251e-06]]\n",
      "[1.71440482 1.71443555 1.72122765 1.75916219]\n",
      "[[ 2.05583803e-01]\n",
      " [ 2.02358372e-01]\n",
      " [ 1.43087844e-01]\n",
      " [ 8.02849290e-03]\n",
      " [-5.15486079e-02]\n",
      " [ 1.32713624e-02]\n",
      " [-1.24808082e-03]\n",
      " [ 4.11886760e-05]]\n",
      "[1.71440482 1.71443555 1.72122765 1.75916219 1.97646431]\n",
      "[-5. -3. -1.  0.  1.]\n"
     ]
    },
    {
     "data": {
      "image/png": "[encoded data removed]",
      "text/plain": [
       "<Figure size 432x288 with 1 Axes>"
      ]
     },
     "metadata": {
      "needs_background": "light"
     },
     "output_type": "display_data"
    }
   ],
   "source": [
    "ridge_regression(x_test,y_test,p2) #Ridge_regression using test data"
   ]
  },
  {
   "cell_type": "markdown",
   "metadata": {},
   "source": [
    "The MSE for both test and train data remains same and the best Log-lambda value is -5 to -3. Later MSE starts increasing linearly as log lambda increases."
   ]
  }
 ],
 "metadata": {
  "kernelspec": {
   "display_name": "Python 3",
   "language": "python",
   "name": "python3"
  },
  "language_info": {
   "codemirror_mode": {
    "name": "ipython",
    "version": 3
   },
   "file_extension": ".py",
   "mimetype": "text/x-python",
   "name": "python",
   "nbconvert_exporter": "python",
   "pygments_lexer": "ipython3",
   "version": "3.7.3"
  }
 },
 "nbformat": 4,
 "nbformat_minor": 2
}
